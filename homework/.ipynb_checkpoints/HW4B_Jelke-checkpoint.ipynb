{
 "cells": [
  {
   "cell_type": "markdown",
   "metadata": {},
   "source": [
    "**<font color='red'>Change the name from assignment_lastname to include YOUR last name</font>**. This will make sure that the assignment doesn't get overwritten when you do a git pull in class. "
   ]
  },
  {
   "cell_type": "markdown",
   "metadata": {},
   "source": [
    "# Homework 4B - the coding portion"
   ]
  },
  {
   "cell_type": "markdown",
   "metadata": {},
   "source": [
    "## Due: Friday, October 23 by 5pm"
   ]
  },
  {
   "cell_type": "markdown",
   "metadata": {},
   "source": [
    "Skills: Loops, lists, functions"
   ]
  },
  {
   "cell_type": "markdown",
   "metadata": {},
   "source": [
    "Turn in instructions:\n",
    "1. Before turning in your notebook, make sure you save it first using the floppy disk save icon or File -> save.\n",
    "2. Open a new terminal ```New -> Terminal```, cd into the directory where you worked on this homework. For most of you that should be ~/PreMAP2020/homework/\n",
    "3. To turn in your assignment, you need to “git push” your assignment to your github using the following commands. You’ll need to be inside the PreMAP2020 directory for this to work. (Not in your home directory.)\n",
    "```\n",
    "git add *\n",
    "git commit -m “<Include a message inside quotes: i.e. Finished HW 3B>”\n",
    "git push\n",
    "```"
   ]
  },
  {
   "cell_type": "markdown",
   "metadata": {},
   "source": [
    "Always start with your import statement!"
   ]
  },
  {
   "cell_type": "code",
   "execution_count": 1,
   "metadata": {},
   "outputs": [],
   "source": [
    "import numpy as np"
   ]
  },
  {
   "cell_type": "markdown",
   "metadata": {},
   "source": [
    "**Please read before completing exercise 1**\n",
    "Functions are a really useful tool for automating tasks that you want to do over and over again. For this first excercise, we will be building up to writing a function that calculates the Schwartzchild radius, or the size of the event horizon, of a black hole. You can read up a bit more on the Schwartzchild radius [here](http://www.astronomy.ohio-state.edu/~thompson/1144/Lecture19.html) if you would like. The only thing you're really going to need to know is the equation use to calculate the Schwartzchild radius: <br>\n",
    "$R_{S} = \\frac{2\\ G\\ M_{BH}}{c^{2}}$ <br>\n",
    "Where $R_{S}$ is the Schwartzchild radius, or radius of the event horizon. $G$ is the gravitational constant, a physical constant used to calculate gravitational effects. $M_{BH}$ is the mass of the black hole and $c$ is the speed of light, another physical constant."
   ]
  },
  {
   "cell_type": "markdown",
   "metadata": {},
   "source": [
    "First, we need to define our constants: $G$ and $c$. I'm putting in the values for you below, you just need to execute the cell. Note that astronomers use a base set of units called ``cgs``, short for centimeters-grams-seconds. Many of you might be familiar with SI units from a physics class which uses meters-kilograms-seconds. We keep all constants in the same base units to avoid doing too much unit conversion."
   ]
  },
  {
   "cell_type": "code",
   "execution_count": 2,
   "metadata": {},
   "outputs": [],
   "source": [
    "G = 6.6725985E-8 #cm^3 g^-1 s^-2\n",
    "c = 2.99792458E10 #cm s^-1"
   ]
  },
  {
   "cell_type": "markdown",
   "metadata": {},
   "source": [
    "**1)**\n",
    "Use the equation above to calculate the size of the Schwartzchild radius for a black hole with a mass of 10$M_{\\odot}$. Note that $1 M_{\\odot}=1.99 \\times 10^{33}$ grams. You will need to multiply 10 by this conversion factor to use the constants above and have your units work out."
   ]
  },
  {
   "cell_type": "code",
   "execution_count": 3,
   "metadata": {},
   "outputs": [
    {
     "name": "stdout",
     "output_type": "stream",
     "text": [
      "2954858.303829219\n"
     ]
    }
   ],
   "source": [
    "SR_10M_Blackhole = ((2)*(G)*(10)*(1.99*10**33))/(c**2)\n",
    "print(SR_10M_Blackhole)"
   ]
  },
  {
   "cell_type": "markdown",
   "metadata": {},
   "source": [
    "**2)**\n",
    "Write a function called `schwartzchild_radius` that takes in a black hole mass and returns the Schwartzchild radius in centimeters. Please refer to our in class notebook on functions if you need to remember the structure a function has in python. Run your function and print out the Schwartzchild radius of a black hole with a mass of $1M_{\\odot}$."
   ]
  },
  {
   "cell_type": "code",
   "execution_count": 4,
   "metadata": {},
   "outputs": [
    {
     "name": "stdout",
     "output_type": "stream",
     "text": [
      "295485.8303829219\n"
     ]
    }
   ],
   "source": [
    "def schwartzchild_radius(black_hole_mass):\n",
    "    if black_hole_mass == 1:\n",
    "        result = ((2)*(G)*(1.99*10**33))/(c**2)\n",
    "    elif black_hole_mass > 1: \n",
    "        result = ((2)*(G)*(black_hole_mass)*(1.99*10**33))/(c**2)\n",
    "    elif black_hole_mass < 1: \n",
    "        result = ((2)*(G)*(black_hole_mass)*(1.99*10**33))/(c**2)\n",
    "        \n",
    "    return result\n",
    "\n",
    "black_hole_mass = 1\n",
    "schwartzchild_radius_in_cm = schwartzchild_radius(black_hole_mass)\n",
    "print(schwartzchild_radius_in_cm)"
   ]
  },
  {
   "cell_type": "code",
   "execution_count": null,
   "metadata": {},
   "outputs": [],
   "source": []
  },
  {
   "cell_type": "markdown",
   "metadata": {},
   "source": [
    "**3)** Copy your function into the cell below and modify it so that it prints out the Schwartzchild radius to screen in both cm and solar radii (X times the radius of the Sun). *Hint: $1 R_{\\odot}=6.96 \\times 10^{10}$ cm.*"
   ]
  },
  {
   "cell_type": "code",
   "execution_count": 5,
   "metadata": {},
   "outputs": [
    {
     "name": "stdout",
     "output_type": "stream",
     "text": [
      "295485.8303829219\n",
      "4.2454860687201425e-06\n"
     ]
    }
   ],
   "source": [
    "def schwartzchild_radius(black_hole_mass):\n",
    "    if black_hole_mass == 1:\n",
    "        result = ((2)*(G)*(1.99*10**33))/(c**2)\n",
    "    elif black_hole_mass > 1: \n",
    "        result = ((2)*(G)*(black_hole_mass)*(1.99*10**33))/(c**2)\n",
    "    elif black_hole_mass < 1: \n",
    "        result = ((2)*(G)*(black_hole_mass)*(1.99*10**33))/(c**2)\n",
    "        \n",
    "    return result\n",
    "\n",
    "black_hole_mass = 1\n",
    "schwartzchild_radius_in_cm = schwartzchild_radius(black_hole_mass)\n",
    "print(schwartzchild_radius_in_cm)\n",
    "schwartzchild_radius_in_solar_radii = (schwartzchild_radius(black_hole_mass))*(1/(6.96*10**10))\n",
    "print(schwartzchild_radius_in_solar_radii)"
   ]
  },
  {
   "cell_type": "code",
   "execution_count": null,
   "metadata": {},
   "outputs": [],
   "source": []
  },
  {
   "cell_type": "markdown",
   "metadata": {},
   "source": [
    "**4)** Now imagine that we could make a black hole out of the Earth (we can't). The mass of the Earth is $5.9 \\times 10^{27}$ grams. Calculate what the Earth's mass is in terms of solar masses and the use your function to calculate the Schwartzchild radius the Earth would have if it could collapse into a black hole. Google around to find some physical item you are familiar with that is about the same size."
   ]
  },
  {
   "cell_type": "code",
   "execution_count": 6,
   "metadata": {},
   "outputs": [
    {
     "name": "stdout",
     "output_type": "stream",
     "text": [
      "4.40232923223969e-34\n"
     ]
    }
   ],
   "source": [
    "def schwartzchild_radius_for_sun(mass_of_earth_in_solar_masses): \n",
    "    if mass_of_earth_in_solar_masses == (5.9*10**27)/(1.99*10**33):\n",
    "        new_result = ((2)*(G)*(mass_of_earth_in_solar_masses))/(c**2)\n",
    "    else: \n",
    "        new_result = \"Incorrect solution for this specific problem. Try again.\"\n",
    "        \n",
    "    return new_result\n",
    "        \n",
    "mass_of_earth_in_solar_masses = (5.9*10**27)/(1.99*10**33)\n",
    "schwartzchild_radius_in_cm_for_sun = schwartzchild_radius_for_sun(mass_of_earth_in_solar_masses)\n",
    "print(schwartzchild_radius_in_cm_for_sun)"
   ]
  },
  {
   "cell_type": "markdown",
   "metadata": {},
   "source": [
    "**5)**\n",
    "The mass of the black hole in the center of M87 that was measured by the Event Horizon Telescope team is $6.5\\times 10^{9} M_{\\odot}$. Calculate the radius of the event horizon for this black hole in both centimeters and solar radii."
   ]
  },
  {
   "cell_type": "code",
   "execution_count": 8,
   "metadata": {},
   "outputs": [
    {
     "name": "stdout",
     "output_type": "stream",
     "text": [
      "1920657897488992.5\n",
      "27607.559256705368\n"
     ]
    }
   ],
   "source": [
    "radius_of_M87_black_hole_in_cm = ((2)*(G)*(6.5*10**9)*(1.99*10**33))/(c**2)\n",
    "print(radius_of_M87_black_hole_in_cm)\n",
    "radius_of_M87_black_hole_in_solar_radii = (radius_of_M87_black_hole_in_cm)/(6.957*10**10)\n",
    "print(radius_of_M87_black_hole_in_solar_radii)"
   ]
  },
  {
   "cell_type": "markdown",
   "metadata": {},
   "source": [
    "**6)** The ring diameter in the paper is given as ~$42 \\mu$as, or 42 micro-arcseconds. An arcsecond is a unit we us in astronomy to measure how big something looks on the sky. The size of an object in the sky depends on both the size of the object itself and its distance away from us. You can calculate the angular size of an object using the following equation: <br>\n",
    "$\\theta = \\frac{d\\ \\times\\ 206264}{D}$ arcseconds<br>\n",
    "Where $\\theta$ is the angular size of the object in arcseconds. The factor of 206,264 in the equation converts from radians to arcseconds for you. $d$ is the physical diameter of the object and D is the distance to that object. You need both $d$ and $D$ to be given in the same units. Here we will use centimeters. <br>\n",
    "\n",
    "Write a function called `angular_size` that takes in the DIAMETER (not the radius) of an object in centimeters and the distance to that object in centimeters and returns its angular size in arcseconds. The distance to M87 is ~ $5 \\times 10^{25}$ centimeters. Use your function to print out the angular size of the black hole in M87 in arcseconds. Use the radius you calculated in the question above and the distance to M87 listed above for your calculations."
   ]
  },
  {
   "cell_type": "code",
   "execution_count": 11,
   "metadata": {},
   "outputs": [
    {
     "name": "stdout",
     "output_type": "stream",
     "text": [
      "2684809203524259.0\n"
     ]
    }
   ],
   "source": [
    "def angular_size(mystery_diameter):\n",
    "    d = 5*10**25 #distance to M87 in cm\n",
    "    D = (2)*(radius_of_M87_black_hole_in_cm)\n",
    "    mystery_angular_size = ((d)*(206264))/(D)\n",
    "    \n",
    "    return mystery_angular_size #the angular size \n",
    "\n",
    "diameter_of_M87_black_hole_in_cm = (2)*(radius_of_M87_black_hole_in_cm)\n",
    "\n",
    "angular_size_in_arcseconds = angular_size(diameter_of_M87_black_hole_in_cm)\n",
    "print(angular_size_in_arcseconds)"
   ]
  },
  {
   "cell_type": "code",
   "execution_count": null,
   "metadata": {},
   "outputs": [],
   "source": []
  },
  {
   "cell_type": "markdown",
   "metadata": {},
   "source": [
    "**7)**\n",
    "How does this angular size compare to the ring diameter listed in the paper? If your answers don't match up, why not (look back at your reading questions from part A)? *Hint: $1 \\mu as = 1.0 \\times 10^{-6} as$* "
   ]
  },
  {
   "cell_type": "markdown",
   "metadata": {},
   "source": []
  },
  {
   "cell_type": "markdown",
   "metadata": {},
   "source": [
    "**8)** Add a doc-string to your function `schwartzchild_radius` with instructions for a future user (or future you!). Doc-strings are REALLY important when working on a long term research project. You will likely need to go back to code you write a couple of weeks/months/years ago and you need to understand what it does. In addition to adding doc-strings, make sure you comment your code. I always add comments with units for constants, because this can help clarify bugs later on! Check back to your functions notebook from class if you need to remember the syntax for adding a doc-string."
   ]
  },
  {
   "cell_type": "code",
   "execution_count": 12,
   "metadata": {},
   "outputs": [
    {
     "name": "stdout",
     "output_type": "stream",
     "text": [
      "295485.8303829219\n"
     ]
    }
   ],
   "source": [
    "def schwartzchild_radius(black_hole_mass):\n",
    "    \"\"\"This function calculates the schwartzchild radius in cm\"\"\"\n",
    "    if black_hole_mass == 1:\n",
    "        result = ((2)*(G)*(1.99*10**33))/(c**2)\n",
    "    elif black_hole_mass > 1: \n",
    "        result = ((2)*(G)*(black_hole_mass)*(1.99*10**33))/(c**2)\n",
    "    elif black_hole_mass < 1: \n",
    "        result = ((2)*(G)*(black_hole_mass)*(1.99*10**33))/(c**2)\n",
    "        \n",
    "    return result\n",
    "\n",
    "black_hole_mass = 1\n",
    "schwartzchild_radius_in_cm = schwartzchild_radius(black_hole_mass)\n",
    "print(schwartzchild_radius_in_cm)"
   ]
  },
  {
   "cell_type": "markdown",
   "metadata": {},
   "source": [
    "Now use the Jupyter notebook help functionality to view your doc string for your new function! If you execute the cell below like you do when you're running code, the information in your doc-string should show up."
   ]
  },
  {
   "cell_type": "code",
   "execution_count": 13,
   "metadata": {},
   "outputs": [],
   "source": [
    "schwartzchild_radius?"
   ]
  },
  {
   "cell_type": "markdown",
   "metadata": {},
   "source": [
    "**9)**\n",
    "Now, let's incorporate some lists and loops to utilize our functions! Create a numpy array called `masses` that contains 10 values between 10 and 1,000,000 spaced logarithmically (there is a `numpy` function for this). These values will be the masses of 10 black holes, for which we want to calculate the Schwartzchild radius. <br>\n",
    "\n",
    "For this assignment you will create two different for loops in the cells below. Both loops will be `for` loops that run your `schwartzchild_radius` function on each black hole mass in the array you created above, assuming the masses are in solar mass units. You should include a `print` statement in each loop before you call the `schwartzchild_radius` function that prints out the current black hole mass. <br>\n",
    "\n",
    "Look back at the notebook titled `04-control_flow_Lastname` and scroll to Example 7. **First**, you will make a `for` loop that follows the syntax of the first loop in that example (`for period in orbital_periods:`). **Second**, you will make a `for` loop that follows the syntax in the next code cell (`for i in range(5):`) where the range is the length of your `masses` array."
   ]
  },
  {
   "cell_type": "code",
   "execution_count": 18,
   "metadata": {},
   "outputs": [],
   "source": [
    "masses = np.logspace(10,1000000,10)"
   ]
  },
  {
   "cell_type": "code",
   "execution_count": 15,
   "metadata": {},
   "outputs": [
    {
     "name": "stdout",
     "output_type": "stream",
     "text": [
      "10000000000.0\n",
      "inf\n",
      "inf\n",
      "inf\n",
      "inf\n",
      "inf\n",
      "inf\n",
      "inf\n",
      "inf\n",
      "inf\n"
     ]
    }
   ],
   "source": [
    "for mass in masses: \n",
    "    print(mass)"
   ]
  },
  {
   "cell_type": "code",
   "execution_count": 20,
   "metadata": {
    "scrolled": false
   },
   "outputs": [
    {
     "ename": "TypeError",
     "evalue": "only integer scalar arrays can be converted to a scalar index",
     "output_type": "error",
     "traceback": [
      "\u001b[0;31m---------------------------------------------------------------------------\u001b[0m",
      "\u001b[0;31mTypeError\u001b[0m                                 Traceback (most recent call last)",
      "\u001b[0;32m<ipython-input-20-e2ed0990e53b>\u001b[0m in \u001b[0;36m<module>\u001b[0;34m\u001b[0m\n\u001b[0;32m----> 1\u001b[0;31m \u001b[0;32mfor\u001b[0m \u001b[0mi\u001b[0m \u001b[0;32min\u001b[0m \u001b[0mrange\u001b[0m\u001b[0;34m(\u001b[0m\u001b[0mmasses\u001b[0m\u001b[0;34m)\u001b[0m\u001b[0;34m:\u001b[0m\u001b[0;34m\u001b[0m\u001b[0;34m\u001b[0m\u001b[0m\n\u001b[0m\u001b[1;32m      2\u001b[0m     \u001b[0mprint\u001b[0m\u001b[0;34m(\u001b[0m\u001b[0mi\u001b[0m\u001b[0;34m)\u001b[0m\u001b[0;34m\u001b[0m\u001b[0;34m\u001b[0m\u001b[0m\n",
      "\u001b[0;31mTypeError\u001b[0m: only integer scalar arrays can be converted to a scalar index"
     ]
    }
   ],
   "source": [
    "for i in range(masses):\n",
    "    print(i)"
   ]
  },
  {
   "cell_type": "markdown",
   "metadata": {},
   "source": [
    "**10)**\n",
    "Now copy your second `for` loop from the previous question into the cell below and edit it so that you only print out the black hole mass for the even-indexed black hole masses (indexes of 0, 2, 4, ...). You still want to calculate the Schwartzchild radius for each black hole mass."
   ]
  },
  {
   "cell_type": "code",
   "execution_count": null,
   "metadata": {},
   "outputs": [],
   "source": [
    "for i in range(masses):\n",
    "    print(i)"
   ]
  }
 ],
 "metadata": {
  "kernelspec": {
   "display_name": "Python 3",
   "language": "python",
   "name": "python3"
  },
  "language_info": {
   "codemirror_mode": {
    "name": "ipython",
    "version": 3
   },
   "file_extension": ".py",
   "mimetype": "text/x-python",
   "name": "python",
   "nbconvert_exporter": "python",
   "pygments_lexer": "ipython3",
   "version": "3.7.8"
  }
 },
 "nbformat": 4,
 "nbformat_minor": 2
}
